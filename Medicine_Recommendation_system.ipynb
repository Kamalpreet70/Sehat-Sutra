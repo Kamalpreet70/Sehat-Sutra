{
  "nbformat": 4,
  "nbformat_minor": 0,
  "metadata": {
    "colab": {
      "provenance": [],
      "toc_visible": true,
      "mount_file_id": "1xUgemQkABbP4BuU_ojmu1bxS_85ToC8R",
      "authorship_tag": "ABX9TyOrZoFoi3cZwGw5rqaQLTgq",
      "include_colab_link": true
    },
    "kernelspec": {
      "name": "python3",
      "display_name": "Python 3"
    },
    "language_info": {
      "name": "python"
    }
  },
  "cells": [
    {
      "cell_type": "markdown",
      "metadata": {
        "id": "view-in-github",
        "colab_type": "text"
      },
      "source": [
        "<a href=\"https://colab.research.google.com/github/Kamalpreet70/Sehat-Sutra/blob/main/Medicine_Recommendation_system.ipynb\" target=\"_parent\"><img src=\"https://colab.research.google.com/assets/colab-badge.svg\" alt=\"Open In Colab\"/></a>"
      ]
    },
    {
      "cell_type": "code",
      "execution_count": null,
      "metadata": {
        "id": "3nh8702v8pMq"
      },
      "outputs": [],
      "source": [
        "import pandas as pd\n",
        "dataset = pd.read_csv('Training.csv')"
      ]
    },
    {
      "cell_type": "code",
      "source": [
        "dataset"
      ],
      "metadata": {
        "colab": {
          "base_uri": "https://localhost:8080/",
          "height": 617
        },
        "id": "gp1GZACs9GwC",
        "outputId": "a446e2a3-ca31-444c-d349-8fafd2b5e6d4"
      },
      "execution_count": null,
      "outputs": [
        {
          "output_type": "execute_result",
          "data": {
            "text/plain": [
              "      itching  skin_rash  nodal_skin_eruptions  continuous_sneezing  \\\n",
              "0           1          1                     1                    0   \n",
              "1           0          1                     1                    0   \n",
              "2           1          0                     1                    0   \n",
              "3           1          1                     0                    0   \n",
              "4           1          1                     1                    0   \n",
              "...       ...        ...                   ...                  ...   \n",
              "4915        0          0                     0                    0   \n",
              "4916        0          1                     0                    0   \n",
              "4917        0          0                     0                    0   \n",
              "4918        0          1                     0                    0   \n",
              "4919        0          1                     0                    0   \n",
              "\n",
              "      shivering  chills  joint_pain  stomach_pain  acidity  ulcers_on_tongue  \\\n",
              "0             0       0           0             0        0                 0   \n",
              "1             0       0           0             0        0                 0   \n",
              "2             0       0           0             0        0                 0   \n",
              "3             0       0           0             0        0                 0   \n",
              "4             0       0           0             0        0                 0   \n",
              "...         ...     ...         ...           ...      ...               ...   \n",
              "4915          0       0           0             0        0                 0   \n",
              "4916          0       0           0             0        0                 0   \n",
              "4917          0       0           0             0        0                 0   \n",
              "4918          0       0           1             0        0                 0   \n",
              "4919          0       0           0             0        0                 0   \n",
              "\n",
              "      ...  blackheads  scurring  skin_peeling  silver_like_dusting  \\\n",
              "0     ...           0         0             0                    0   \n",
              "1     ...           0         0             0                    0   \n",
              "2     ...           0         0             0                    0   \n",
              "3     ...           0         0             0                    0   \n",
              "4     ...           0         0             0                    0   \n",
              "...   ...         ...       ...           ...                  ...   \n",
              "4915  ...           0         0             0                    0   \n",
              "4916  ...           1         1             0                    0   \n",
              "4917  ...           0         0             0                    0   \n",
              "4918  ...           0         0             1                    1   \n",
              "4919  ...           0         0             0                    0   \n",
              "\n",
              "      small_dents_in_nails  inflammatory_nails  blister  red_sore_around_nose  \\\n",
              "0                        0                   0        0                     0   \n",
              "1                        0                   0        0                     0   \n",
              "2                        0                   0        0                     0   \n",
              "3                        0                   0        0                     0   \n",
              "4                        0                   0        0                     0   \n",
              "...                    ...                 ...      ...                   ...   \n",
              "4915                     0                   0        0                     0   \n",
              "4916                     0                   0        0                     0   \n",
              "4917                     0                   0        0                     0   \n",
              "4918                     1                   1        0                     0   \n",
              "4919                     0                   0        1                     1   \n",
              "\n",
              "      yellow_crust_ooze                                prognosis  \n",
              "0                     0                         Fungal infection  \n",
              "1                     0                         Fungal infection  \n",
              "2                     0                         Fungal infection  \n",
              "3                     0                         Fungal infection  \n",
              "4                     0                         Fungal infection  \n",
              "...                 ...                                      ...  \n",
              "4915                  0  (vertigo) Paroymsal  Positional Vertigo  \n",
              "4916                  0                                     Acne  \n",
              "4917                  0                  Urinary tract infection  \n",
              "4918                  0                                Psoriasis  \n",
              "4919                  1                                 Impetigo  \n",
              "\n",
              "[4920 rows x 133 columns]"
            ],
            "text/html": [
              "\n",
              "  <div id=\"df-1db1b92d-3863-4a62-b0ba-04097235edad\" class=\"colab-df-container\">\n",
              "    <div>\n",
              "<style scoped>\n",
              "    .dataframe tbody tr th:only-of-type {\n",
              "        vertical-align: middle;\n",
              "    }\n",
              "\n",
              "    .dataframe tbody tr th {\n",
              "        vertical-align: top;\n",
              "    }\n",
              "\n",
              "    .dataframe thead th {\n",
              "        text-align: right;\n",
              "    }\n",
              "</style>\n",
              "<table border=\"1\" class=\"dataframe\">\n",
              "  <thead>\n",
              "    <tr style=\"text-align: right;\">\n",
              "      <th></th>\n",
              "      <th>itching</th>\n",
              "      <th>skin_rash</th>\n",
              "      <th>nodal_skin_eruptions</th>\n",
              "      <th>continuous_sneezing</th>\n",
              "      <th>shivering</th>\n",
              "      <th>chills</th>\n",
              "      <th>joint_pain</th>\n",
              "      <th>stomach_pain</th>\n",
              "      <th>acidity</th>\n",
              "      <th>ulcers_on_tongue</th>\n",
              "      <th>...</th>\n",
              "      <th>blackheads</th>\n",
              "      <th>scurring</th>\n",
              "      <th>skin_peeling</th>\n",
              "      <th>silver_like_dusting</th>\n",
              "      <th>small_dents_in_nails</th>\n",
              "      <th>inflammatory_nails</th>\n",
              "      <th>blister</th>\n",
              "      <th>red_sore_around_nose</th>\n",
              "      <th>yellow_crust_ooze</th>\n",
              "      <th>prognosis</th>\n",
              "    </tr>\n",
              "  </thead>\n",
              "  <tbody>\n",
              "    <tr>\n",
              "      <th>0</th>\n",
              "      <td>1</td>\n",
              "      <td>1</td>\n",
              "      <td>1</td>\n",
              "      <td>0</td>\n",
              "      <td>0</td>\n",
              "      <td>0</td>\n",
              "      <td>0</td>\n",
              "      <td>0</td>\n",
              "      <td>0</td>\n",
              "      <td>0</td>\n",
              "      <td>...</td>\n",
              "      <td>0</td>\n",
              "      <td>0</td>\n",
              "      <td>0</td>\n",
              "      <td>0</td>\n",
              "      <td>0</td>\n",
              "      <td>0</td>\n",
              "      <td>0</td>\n",
              "      <td>0</td>\n",
              "      <td>0</td>\n",
              "      <td>Fungal infection</td>\n",
              "    </tr>\n",
              "    <tr>\n",
              "      <th>1</th>\n",
              "      <td>0</td>\n",
              "      <td>1</td>\n",
              "      <td>1</td>\n",
              "      <td>0</td>\n",
              "      <td>0</td>\n",
              "      <td>0</td>\n",
              "      <td>0</td>\n",
              "      <td>0</td>\n",
              "      <td>0</td>\n",
              "      <td>0</td>\n",
              "      <td>...</td>\n",
              "      <td>0</td>\n",
              "      <td>0</td>\n",
              "      <td>0</td>\n",
              "      <td>0</td>\n",
              "      <td>0</td>\n",
              "      <td>0</td>\n",
              "      <td>0</td>\n",
              "      <td>0</td>\n",
              "      <td>0</td>\n",
              "      <td>Fungal infection</td>\n",
              "    </tr>\n",
              "    <tr>\n",
              "      <th>2</th>\n",
              "      <td>1</td>\n",
              "      <td>0</td>\n",
              "      <td>1</td>\n",
              "      <td>0</td>\n",
              "      <td>0</td>\n",
              "      <td>0</td>\n",
              "      <td>0</td>\n",
              "      <td>0</td>\n",
              "      <td>0</td>\n",
              "      <td>0</td>\n",
              "      <td>...</td>\n",
              "      <td>0</td>\n",
              "      <td>0</td>\n",
              "      <td>0</td>\n",
              "      <td>0</td>\n",
              "      <td>0</td>\n",
              "      <td>0</td>\n",
              "      <td>0</td>\n",
              "      <td>0</td>\n",
              "      <td>0</td>\n",
              "      <td>Fungal infection</td>\n",
              "    </tr>\n",
              "    <tr>\n",
              "      <th>3</th>\n",
              "      <td>1</td>\n",
              "      <td>1</td>\n",
              "      <td>0</td>\n",
              "      <td>0</td>\n",
              "      <td>0</td>\n",
              "      <td>0</td>\n",
              "      <td>0</td>\n",
              "      <td>0</td>\n",
              "      <td>0</td>\n",
              "      <td>0</td>\n",
              "      <td>...</td>\n",
              "      <td>0</td>\n",
              "      <td>0</td>\n",
              "      <td>0</td>\n",
              "      <td>0</td>\n",
              "      <td>0</td>\n",
              "      <td>0</td>\n",
              "      <td>0</td>\n",
              "      <td>0</td>\n",
              "      <td>0</td>\n",
              "      <td>Fungal infection</td>\n",
              "    </tr>\n",
              "    <tr>\n",
              "      <th>4</th>\n",
              "      <td>1</td>\n",
              "      <td>1</td>\n",
              "      <td>1</td>\n",
              "      <td>0</td>\n",
              "      <td>0</td>\n",
              "      <td>0</td>\n",
              "      <td>0</td>\n",
              "      <td>0</td>\n",
              "      <td>0</td>\n",
              "      <td>0</td>\n",
              "      <td>...</td>\n",
              "      <td>0</td>\n",
              "      <td>0</td>\n",
              "      <td>0</td>\n",
              "      <td>0</td>\n",
              "      <td>0</td>\n",
              "      <td>0</td>\n",
              "      <td>0</td>\n",
              "      <td>0</td>\n",
              "      <td>0</td>\n",
              "      <td>Fungal infection</td>\n",
              "    </tr>\n",
              "    <tr>\n",
              "      <th>...</th>\n",
              "      <td>...</td>\n",
              "      <td>...</td>\n",
              "      <td>...</td>\n",
              "      <td>...</td>\n",
              "      <td>...</td>\n",
              "      <td>...</td>\n",
              "      <td>...</td>\n",
              "      <td>...</td>\n",
              "      <td>...</td>\n",
              "      <td>...</td>\n",
              "      <td>...</td>\n",
              "      <td>...</td>\n",
              "      <td>...</td>\n",
              "      <td>...</td>\n",
              "      <td>...</td>\n",
              "      <td>...</td>\n",
              "      <td>...</td>\n",
              "      <td>...</td>\n",
              "      <td>...</td>\n",
              "      <td>...</td>\n",
              "      <td>...</td>\n",
              "    </tr>\n",
              "    <tr>\n",
              "      <th>4915</th>\n",
              "      <td>0</td>\n",
              "      <td>0</td>\n",
              "      <td>0</td>\n",
              "      <td>0</td>\n",
              "      <td>0</td>\n",
              "      <td>0</td>\n",
              "      <td>0</td>\n",
              "      <td>0</td>\n",
              "      <td>0</td>\n",
              "      <td>0</td>\n",
              "      <td>...</td>\n",
              "      <td>0</td>\n",
              "      <td>0</td>\n",
              "      <td>0</td>\n",
              "      <td>0</td>\n",
              "      <td>0</td>\n",
              "      <td>0</td>\n",
              "      <td>0</td>\n",
              "      <td>0</td>\n",
              "      <td>0</td>\n",
              "      <td>(vertigo) Paroymsal  Positional Vertigo</td>\n",
              "    </tr>\n",
              "    <tr>\n",
              "      <th>4916</th>\n",
              "      <td>0</td>\n",
              "      <td>1</td>\n",
              "      <td>0</td>\n",
              "      <td>0</td>\n",
              "      <td>0</td>\n",
              "      <td>0</td>\n",
              "      <td>0</td>\n",
              "      <td>0</td>\n",
              "      <td>0</td>\n",
              "      <td>0</td>\n",
              "      <td>...</td>\n",
              "      <td>1</td>\n",
              "      <td>1</td>\n",
              "      <td>0</td>\n",
              "      <td>0</td>\n",
              "      <td>0</td>\n",
              "      <td>0</td>\n",
              "      <td>0</td>\n",
              "      <td>0</td>\n",
              "      <td>0</td>\n",
              "      <td>Acne</td>\n",
              "    </tr>\n",
              "    <tr>\n",
              "      <th>4917</th>\n",
              "      <td>0</td>\n",
              "      <td>0</td>\n",
              "      <td>0</td>\n",
              "      <td>0</td>\n",
              "      <td>0</td>\n",
              "      <td>0</td>\n",
              "      <td>0</td>\n",
              "      <td>0</td>\n",
              "      <td>0</td>\n",
              "      <td>0</td>\n",
              "      <td>...</td>\n",
              "      <td>0</td>\n",
              "      <td>0</td>\n",
              "      <td>0</td>\n",
              "      <td>0</td>\n",
              "      <td>0</td>\n",
              "      <td>0</td>\n",
              "      <td>0</td>\n",
              "      <td>0</td>\n",
              "      <td>0</td>\n",
              "      <td>Urinary tract infection</td>\n",
              "    </tr>\n",
              "    <tr>\n",
              "      <th>4918</th>\n",
              "      <td>0</td>\n",
              "      <td>1</td>\n",
              "      <td>0</td>\n",
              "      <td>0</td>\n",
              "      <td>0</td>\n",
              "      <td>0</td>\n",
              "      <td>1</td>\n",
              "      <td>0</td>\n",
              "      <td>0</td>\n",
              "      <td>0</td>\n",
              "      <td>...</td>\n",
              "      <td>0</td>\n",
              "      <td>0</td>\n",
              "      <td>1</td>\n",
              "      <td>1</td>\n",
              "      <td>1</td>\n",
              "      <td>1</td>\n",
              "      <td>0</td>\n",
              "      <td>0</td>\n",
              "      <td>0</td>\n",
              "      <td>Psoriasis</td>\n",
              "    </tr>\n",
              "    <tr>\n",
              "      <th>4919</th>\n",
              "      <td>0</td>\n",
              "      <td>1</td>\n",
              "      <td>0</td>\n",
              "      <td>0</td>\n",
              "      <td>0</td>\n",
              "      <td>0</td>\n",
              "      <td>0</td>\n",
              "      <td>0</td>\n",
              "      <td>0</td>\n",
              "      <td>0</td>\n",
              "      <td>...</td>\n",
              "      <td>0</td>\n",
              "      <td>0</td>\n",
              "      <td>0</td>\n",
              "      <td>0</td>\n",
              "      <td>0</td>\n",
              "      <td>0</td>\n",
              "      <td>1</td>\n",
              "      <td>1</td>\n",
              "      <td>1</td>\n",
              "      <td>Impetigo</td>\n",
              "    </tr>\n",
              "  </tbody>\n",
              "</table>\n",
              "<p>4920 rows × 133 columns</p>\n",
              "</div>\n",
              "    <div class=\"colab-df-buttons\">\n",
              "\n",
              "  <div class=\"colab-df-container\">\n",
              "    <button class=\"colab-df-convert\" onclick=\"convertToInteractive('df-1db1b92d-3863-4a62-b0ba-04097235edad')\"\n",
              "            title=\"Convert this dataframe to an interactive table.\"\n",
              "            style=\"display:none;\">\n",
              "\n",
              "  <svg xmlns=\"http://www.w3.org/2000/svg\" height=\"24px\" viewBox=\"0 -960 960 960\">\n",
              "    <path d=\"M120-120v-720h720v720H120Zm60-500h600v-160H180v160Zm220 220h160v-160H400v160Zm0 220h160v-160H400v160ZM180-400h160v-160H180v160Zm440 0h160v-160H620v160ZM180-180h160v-160H180v160Zm440 0h160v-160H620v160Z\"/>\n",
              "  </svg>\n",
              "    </button>\n",
              "\n",
              "  <style>\n",
              "    .colab-df-container {\n",
              "      display:flex;\n",
              "      gap: 12px;\n",
              "    }\n",
              "\n",
              "    .colab-df-convert {\n",
              "      background-color: #E8F0FE;\n",
              "      border: none;\n",
              "      border-radius: 50%;\n",
              "      cursor: pointer;\n",
              "      display: none;\n",
              "      fill: #1967D2;\n",
              "      height: 32px;\n",
              "      padding: 0 0 0 0;\n",
              "      width: 32px;\n",
              "    }\n",
              "\n",
              "    .colab-df-convert:hover {\n",
              "      background-color: #E2EBFA;\n",
              "      box-shadow: 0px 1px 2px rgba(60, 64, 67, 0.3), 0px 1px 3px 1px rgba(60, 64, 67, 0.15);\n",
              "      fill: #174EA6;\n",
              "    }\n",
              "\n",
              "    .colab-df-buttons div {\n",
              "      margin-bottom: 4px;\n",
              "    }\n",
              "\n",
              "    [theme=dark] .colab-df-convert {\n",
              "      background-color: #3B4455;\n",
              "      fill: #D2E3FC;\n",
              "    }\n",
              "\n",
              "    [theme=dark] .colab-df-convert:hover {\n",
              "      background-color: #434B5C;\n",
              "      box-shadow: 0px 1px 3px 1px rgba(0, 0, 0, 0.15);\n",
              "      filter: drop-shadow(0px 1px 2px rgba(0, 0, 0, 0.3));\n",
              "      fill: #FFFFFF;\n",
              "    }\n",
              "  </style>\n",
              "\n",
              "    <script>\n",
              "      const buttonEl =\n",
              "        document.querySelector('#df-1db1b92d-3863-4a62-b0ba-04097235edad button.colab-df-convert');\n",
              "      buttonEl.style.display =\n",
              "        google.colab.kernel.accessAllowed ? 'block' : 'none';\n",
              "\n",
              "      async function convertToInteractive(key) {\n",
              "        const element = document.querySelector('#df-1db1b92d-3863-4a62-b0ba-04097235edad');\n",
              "        const dataTable =\n",
              "          await google.colab.kernel.invokeFunction('convertToInteractive',\n",
              "                                                    [key], {});\n",
              "        if (!dataTable) return;\n",
              "\n",
              "        const docLinkHtml = 'Like what you see? Visit the ' +\n",
              "          '<a target=\"_blank\" href=https://colab.research.google.com/notebooks/data_table.ipynb>data table notebook</a>'\n",
              "          + ' to learn more about interactive tables.';\n",
              "        element.innerHTML = '';\n",
              "        dataTable['output_type'] = 'display_data';\n",
              "        await google.colab.output.renderOutput(dataTable, element);\n",
              "        const docLink = document.createElement('div');\n",
              "        docLink.innerHTML = docLinkHtml;\n",
              "        element.appendChild(docLink);\n",
              "      }\n",
              "    </script>\n",
              "  </div>\n",
              "\n",
              "\n",
              "<div id=\"df-2ca1a887-2f15-4cf6-901f-5d46afa2b185\">\n",
              "  <button class=\"colab-df-quickchart\" onclick=\"quickchart('df-2ca1a887-2f15-4cf6-901f-5d46afa2b185')\"\n",
              "            title=\"Suggest charts\"\n",
              "            style=\"display:none;\">\n",
              "\n",
              "<svg xmlns=\"http://www.w3.org/2000/svg\" height=\"24px\"viewBox=\"0 0 24 24\"\n",
              "     width=\"24px\">\n",
              "    <g>\n",
              "        <path d=\"M19 3H5c-1.1 0-2 .9-2 2v14c0 1.1.9 2 2 2h14c1.1 0 2-.9 2-2V5c0-1.1-.9-2-2-2zM9 17H7v-7h2v7zm4 0h-2V7h2v10zm4 0h-2v-4h2v4z\"/>\n",
              "    </g>\n",
              "</svg>\n",
              "  </button>\n",
              "\n",
              "<style>\n",
              "  .colab-df-quickchart {\n",
              "      --bg-color: #E8F0FE;\n",
              "      --fill-color: #1967D2;\n",
              "      --hover-bg-color: #E2EBFA;\n",
              "      --hover-fill-color: #174EA6;\n",
              "      --disabled-fill-color: #AAA;\n",
              "      --disabled-bg-color: #DDD;\n",
              "  }\n",
              "\n",
              "  [theme=dark] .colab-df-quickchart {\n",
              "      --bg-color: #3B4455;\n",
              "      --fill-color: #D2E3FC;\n",
              "      --hover-bg-color: #434B5C;\n",
              "      --hover-fill-color: #FFFFFF;\n",
              "      --disabled-bg-color: #3B4455;\n",
              "      --disabled-fill-color: #666;\n",
              "  }\n",
              "\n",
              "  .colab-df-quickchart {\n",
              "    background-color: var(--bg-color);\n",
              "    border: none;\n",
              "    border-radius: 50%;\n",
              "    cursor: pointer;\n",
              "    display: none;\n",
              "    fill: var(--fill-color);\n",
              "    height: 32px;\n",
              "    padding: 0;\n",
              "    width: 32px;\n",
              "  }\n",
              "\n",
              "  .colab-df-quickchart:hover {\n",
              "    background-color: var(--hover-bg-color);\n",
              "    box-shadow: 0 1px 2px rgba(60, 64, 67, 0.3), 0 1px 3px 1px rgba(60, 64, 67, 0.15);\n",
              "    fill: var(--button-hover-fill-color);\n",
              "  }\n",
              "\n",
              "  .colab-df-quickchart-complete:disabled,\n",
              "  .colab-df-quickchart-complete:disabled:hover {\n",
              "    background-color: var(--disabled-bg-color);\n",
              "    fill: var(--disabled-fill-color);\n",
              "    box-shadow: none;\n",
              "  }\n",
              "\n",
              "  .colab-df-spinner {\n",
              "    border: 2px solid var(--fill-color);\n",
              "    border-color: transparent;\n",
              "    border-bottom-color: var(--fill-color);\n",
              "    animation:\n",
              "      spin 1s steps(1) infinite;\n",
              "  }\n",
              "\n",
              "  @keyframes spin {\n",
              "    0% {\n",
              "      border-color: transparent;\n",
              "      border-bottom-color: var(--fill-color);\n",
              "      border-left-color: var(--fill-color);\n",
              "    }\n",
              "    20% {\n",
              "      border-color: transparent;\n",
              "      border-left-color: var(--fill-color);\n",
              "      border-top-color: var(--fill-color);\n",
              "    }\n",
              "    30% {\n",
              "      border-color: transparent;\n",
              "      border-left-color: var(--fill-color);\n",
              "      border-top-color: var(--fill-color);\n",
              "      border-right-color: var(--fill-color);\n",
              "    }\n",
              "    40% {\n",
              "      border-color: transparent;\n",
              "      border-right-color: var(--fill-color);\n",
              "      border-top-color: var(--fill-color);\n",
              "    }\n",
              "    60% {\n",
              "      border-color: transparent;\n",
              "      border-right-color: var(--fill-color);\n",
              "    }\n",
              "    80% {\n",
              "      border-color: transparent;\n",
              "      border-right-color: var(--fill-color);\n",
              "      border-bottom-color: var(--fill-color);\n",
              "    }\n",
              "    90% {\n",
              "      border-color: transparent;\n",
              "      border-bottom-color: var(--fill-color);\n",
              "    }\n",
              "  }\n",
              "</style>\n",
              "\n",
              "  <script>\n",
              "    async function quickchart(key) {\n",
              "      const quickchartButtonEl =\n",
              "        document.querySelector('#' + key + ' button');\n",
              "      quickchartButtonEl.disabled = true;  // To prevent multiple clicks.\n",
              "      quickchartButtonEl.classList.add('colab-df-spinner');\n",
              "      try {\n",
              "        const charts = await google.colab.kernel.invokeFunction(\n",
              "            'suggestCharts', [key], {});\n",
              "      } catch (error) {\n",
              "        console.error('Error during call to suggestCharts:', error);\n",
              "      }\n",
              "      quickchartButtonEl.classList.remove('colab-df-spinner');\n",
              "      quickchartButtonEl.classList.add('colab-df-quickchart-complete');\n",
              "    }\n",
              "    (() => {\n",
              "      let quickchartButtonEl =\n",
              "        document.querySelector('#df-2ca1a887-2f15-4cf6-901f-5d46afa2b185 button');\n",
              "      quickchartButtonEl.style.display =\n",
              "        google.colab.kernel.accessAllowed ? 'block' : 'none';\n",
              "    })();\n",
              "  </script>\n",
              "</div>\n",
              "\n",
              "  <div id=\"id_3495f79f-9a66-434c-9522-8d5f682f6ee7\">\n",
              "    <style>\n",
              "      .colab-df-generate {\n",
              "        background-color: #E8F0FE;\n",
              "        border: none;\n",
              "        border-radius: 50%;\n",
              "        cursor: pointer;\n",
              "        display: none;\n",
              "        fill: #1967D2;\n",
              "        height: 32px;\n",
              "        padding: 0 0 0 0;\n",
              "        width: 32px;\n",
              "      }\n",
              "\n",
              "      .colab-df-generate:hover {\n",
              "        background-color: #E2EBFA;\n",
              "        box-shadow: 0px 1px 2px rgba(60, 64, 67, 0.3), 0px 1px 3px 1px rgba(60, 64, 67, 0.15);\n",
              "        fill: #174EA6;\n",
              "      }\n",
              "\n",
              "      [theme=dark] .colab-df-generate {\n",
              "        background-color: #3B4455;\n",
              "        fill: #D2E3FC;\n",
              "      }\n",
              "\n",
              "      [theme=dark] .colab-df-generate:hover {\n",
              "        background-color: #434B5C;\n",
              "        box-shadow: 0px 1px 3px 1px rgba(0, 0, 0, 0.15);\n",
              "        filter: drop-shadow(0px 1px 2px rgba(0, 0, 0, 0.3));\n",
              "        fill: #FFFFFF;\n",
              "      }\n",
              "    </style>\n",
              "    <button class=\"colab-df-generate\" onclick=\"generateWithVariable('dataset')\"\n",
              "            title=\"Generate code using this dataframe.\"\n",
              "            style=\"display:none;\">\n",
              "\n",
              "  <svg xmlns=\"http://www.w3.org/2000/svg\" height=\"24px\"viewBox=\"0 0 24 24\"\n",
              "       width=\"24px\">\n",
              "    <path d=\"M7,19H8.4L18.45,9,17,7.55,7,17.6ZM5,21V16.75L18.45,3.32a2,2,0,0,1,2.83,0l1.4,1.43a1.91,1.91,0,0,1,.58,1.4,1.91,1.91,0,0,1-.58,1.4L9.25,21ZM18.45,9,17,7.55Zm-12,3A5.31,5.31,0,0,0,4.9,8.1,5.31,5.31,0,0,0,1,6.5,5.31,5.31,0,0,0,4.9,4.9,5.31,5.31,0,0,0,6.5,1,5.31,5.31,0,0,0,8.1,4.9,5.31,5.31,0,0,0,12,6.5,5.46,5.46,0,0,0,6.5,12Z\"/>\n",
              "  </svg>\n",
              "    </button>\n",
              "    <script>\n",
              "      (() => {\n",
              "      const buttonEl =\n",
              "        document.querySelector('#id_3495f79f-9a66-434c-9522-8d5f682f6ee7 button.colab-df-generate');\n",
              "      buttonEl.style.display =\n",
              "        google.colab.kernel.accessAllowed ? 'block' : 'none';\n",
              "\n",
              "      buttonEl.onclick = () => {\n",
              "        google.colab.notebook.generateWithVariable('dataset');\n",
              "      }\n",
              "      })();\n",
              "    </script>\n",
              "  </div>\n",
              "\n",
              "    </div>\n",
              "  </div>\n"
            ],
            "application/vnd.google.colaboratory.intrinsic+json": {
              "type": "dataframe",
              "variable_name": "dataset"
            }
          },
          "metadata": {},
          "execution_count": 5
        }
      ]
    },
    {
      "cell_type": "code",
      "source": [
        "dataset.shape"
      ],
      "metadata": {
        "colab": {
          "base_uri": "https://localhost:8080/"
        },
        "id": "8LGkhTjn9Mqm",
        "outputId": "5af7541d-ff56-4d28-b022-cb0ba5a7f9d6"
      },
      "execution_count": null,
      "outputs": [
        {
          "output_type": "execute_result",
          "data": {
            "text/plain": [
              "(4920, 133)"
            ]
          },
          "metadata": {},
          "execution_count": 6
        }
      ]
    },
    {
      "cell_type": "markdown",
      "source": [
        "#Train Test Split"
      ],
      "metadata": {
        "id": "xCu1uDmr-GnW"
      }
    },
    {
      "cell_type": "code",
      "source": [
        "from sklearn.model_selection import train_test_split\n",
        "from sklearn.preprocessing import LabelEncoder"
      ],
      "metadata": {
        "id": "TVNIKybE-b66"
      },
      "execution_count": null,
      "outputs": []
    },
    {
      "cell_type": "code",
      "source": [
        "X=dataset.drop('prognosis', axis=1)\n",
        "y=dataset['prognosis']\n",
        "\n",
        "#encoding prognosis\n",
        "le=LabelEncoder()\n",
        "le.fit(y)\n",
        "Y=le.transform(y)\n",
        "\n",
        "X_train, X_test, y_train, y_test = train_test_split(X, Y, test_size=0.3, random_state=20)"
      ],
      "metadata": {
        "id": "ee32Ljqn-v52"
      },
      "execution_count": null,
      "outputs": []
    },
    {
      "cell_type": "code",
      "source": [
        "X_train.shape, X_test.shape, y_train.shape, y_test.shape"
      ],
      "metadata": {
        "colab": {
          "base_uri": "https://localhost:8080/"
        },
        "id": "2EuGFRGsTaOk",
        "outputId": "19a9e303-bcf5-4735-a3f3-3f36234a8e43"
      },
      "execution_count": null,
      "outputs": [
        {
          "output_type": "execute_result",
          "data": {
            "text/plain": [
              "((3444, 132), (1476, 132), (3444,), (1476,))"
            ]
          },
          "metadata": {},
          "execution_count": 9
        }
      ]
    },
    {
      "cell_type": "markdown",
      "source": [
        "#Training Top Models"
      ],
      "metadata": {
        "id": "eiZQEL5YWA2N"
      }
    },
    {
      "cell_type": "code",
      "source": [
        "!pip install make_classification"
      ],
      "metadata": {
        "colab": {
          "base_uri": "https://localhost:8080/"
        },
        "id": "i4d7W-MrdZkj",
        "outputId": "c5a80a7d-d61f-4b19-9e27-27a158d8dc63"
      },
      "execution_count": null,
      "outputs": [
        {
          "output_type": "stream",
          "name": "stdout",
          "text": [
            "\u001b[31mERROR: Could not find a version that satisfies the requirement make_classification (from versions: none)\u001b[0m\u001b[31m\n",
            "\u001b[0m\u001b[31mERROR: No matching distribution found for make_classification\u001b[0m\u001b[31m\n",
            "\u001b[0m"
          ]
        }
      ]
    },
    {
      "cell_type": "code",
      "source": [
        "from sklearn.datasets import make_classification\n",
        "from sklearn.model_selection import train_test_split\n",
        "from sklearn.svm import SVC\n",
        "from sklearn.ensemble import RandomForestClassifier , GradientBoostingClassifier\n",
        "from sklearn.neighbors import KNeighborsClassifier\n",
        "from sklearn.naive_bayes import MultinomialNB\n",
        "from sklearn.metrics import accuracy_score, confusion_matrix\n",
        "import numpy as np\n",
        "\n",
        "\n",
        "#create a dictionary to store models\n",
        "models={\n",
        "    'SVC':SVC(kernel='linear'),\n",
        "    'RandomForest':RandomForestClassifier(n_estimators=100, random_state=42),\n",
        "    'GradientBoosting':GradientBoostingClassifier(n_estimators=100, random_state=42),\n",
        "    'KNeighbors':KNeighborsClassifier(n_neighbors=5),\n",
        "    'MultinomialNB': MultinomialNB()\n",
        "}\n",
        "\n",
        "#Loop through the models, train, test, and print results\n",
        "for model_name, model in models.items():\n",
        "    #train the model\n",
        "    model.fit(X_train, y_train)\n",
        "\n",
        "    #test the model\n",
        "    predictions=model.predict(X_test)\n",
        "\n",
        "    #Calculate Accuracy\n",
        "    accuracy=accuracy_score(y_test, predictions)\n",
        "    print(f\"{model_name} Accuracy: {accuracy}\")\n",
        "\n",
        "    #Calculte confusion matrix\n",
        "    cm=confusion_matrix(y_test, predictions)\n",
        "    print(f\"{model_name} Confusion Matrix:\")\n",
        "    print(np.array2string(cm, separator=', '))\n",
        "\n",
        "    print(\"\\n\" + \"=\"*40 + \"\\n\")\n"
      ],
      "metadata": {
        "colab": {
          "base_uri": "https://localhost:8080/"
        },
        "id": "k_ekMayMV4SL",
        "outputId": "a25516be-aa4c-4a1a-b253-caea4bb880ca"
      },
      "execution_count": null,
      "outputs": [
        {
          "output_type": "stream",
          "name": "stdout",
          "text": [
            "SVC Accuracy: 1.0\n",
            "SVC Confusion Matrix:\n",
            "[[40,  0,  0, ...,  0,  0,  0],\n",
            " [ 0, 43,  0, ...,  0,  0,  0],\n",
            " [ 0,  0, 28, ...,  0,  0,  0],\n",
            " ...,\n",
            " [ 0,  0,  0, ..., 34,  0,  0],\n",
            " [ 0,  0,  0, ...,  0, 41,  0],\n",
            " [ 0,  0,  0, ...,  0,  0, 31]]\n",
            "\n",
            "========================================\n",
            "\n",
            "RandomForest Accuracy: 1.0\n",
            "RandomForest Confusion Matrix:\n",
            "[[40,  0,  0, ...,  0,  0,  0],\n",
            " [ 0, 43,  0, ...,  0,  0,  0],\n",
            " [ 0,  0, 28, ...,  0,  0,  0],\n",
            " ...,\n",
            " [ 0,  0,  0, ..., 34,  0,  0],\n",
            " [ 0,  0,  0, ...,  0, 41,  0],\n",
            " [ 0,  0,  0, ...,  0,  0, 31]]\n",
            "\n",
            "========================================\n",
            "\n",
            "GradientBoosting Accuracy: 1.0\n",
            "GradientBoosting Confusion Matrix:\n",
            "[[40,  0,  0, ...,  0,  0,  0],\n",
            " [ 0, 43,  0, ...,  0,  0,  0],\n",
            " [ 0,  0, 28, ...,  0,  0,  0],\n",
            " ...,\n",
            " [ 0,  0,  0, ..., 34,  0,  0],\n",
            " [ 0,  0,  0, ...,  0, 41,  0],\n",
            " [ 0,  0,  0, ...,  0,  0, 31]]\n",
            "\n",
            "========================================\n",
            "\n",
            "KNeighbors Accuracy: 1.0\n",
            "KNeighbors Confusion Matrix:\n",
            "[[40,  0,  0, ...,  0,  0,  0],\n",
            " [ 0, 43,  0, ...,  0,  0,  0],\n",
            " [ 0,  0, 28, ...,  0,  0,  0],\n",
            " ...,\n",
            " [ 0,  0,  0, ..., 34,  0,  0],\n",
            " [ 0,  0,  0, ...,  0, 41,  0],\n",
            " [ 0,  0,  0, ...,  0,  0, 31]]\n",
            "\n",
            "========================================\n",
            "\n",
            "MultinomialNB Accuracy: 1.0\n",
            "MultinomialNB Confusion Matrix:\n",
            "[[40,  0,  0, ...,  0,  0,  0],\n",
            " [ 0, 43,  0, ...,  0,  0,  0],\n",
            " [ 0,  0, 28, ...,  0,  0,  0],\n",
            " ...,\n",
            " [ 0,  0,  0, ..., 34,  0,  0],\n",
            " [ 0,  0,  0, ...,  0, 41,  0],\n",
            " [ 0,  0,  0, ...,  0,  0, 31]]\n",
            "\n",
            "========================================\n",
            "\n"
          ]
        }
      ]
    },
    {
      "cell_type": "markdown",
      "source": [
        "# Single prediction"
      ],
      "metadata": {
        "id": "hImPYiUfhHRq"
      }
    },
    {
      "cell_type": "code",
      "source": [
        "svc= SVC(kernel='linear')\n",
        "svc.fit(X_train, y_train)\n",
        "ypred=svc.predict(X_test)\n",
        "accuracy_score(y_test, ypred)"
      ],
      "metadata": {
        "colab": {
          "base_uri": "https://localhost:8080/"
        },
        "id": "hGCDv_ESV3-3",
        "outputId": "2fb3f3f4-0283-425b-dfad-393d1b757885"
      },
      "execution_count": null,
      "outputs": [
        {
          "output_type": "execute_result",
          "data": {
            "text/plain": [
              "1.0"
            ]
          },
          "metadata": {},
          "execution_count": 11
        }
      ]
    },
    {
      "cell_type": "code",
      "source": [
        "#save svc\n",
        "import pickle\n",
        "pickle.dump(svc, open('svc.pkl', 'wb'))"
      ],
      "metadata": {
        "id": "nTwPeQdYmOKN"
      },
      "execution_count": null,
      "outputs": []
    },
    {
      "cell_type": "code",
      "source": [
        "#load model\n",
        "svc=pickle.load(open('svc.pkl','rb'))"
      ],
      "metadata": {
        "id": "7h6EuDivheey"
      },
      "execution_count": null,
      "outputs": []
    },
    {
      "cell_type": "code",
      "source": [
        "from google.colab import files\n",
        "files.download('svc.pkl')\n"
      ],
      "metadata": {
        "colab": {
          "base_uri": "https://localhost:8080/",
          "height": 17
        },
        "id": "F_rEnjBDIDzT",
        "outputId": "e1d28f09-ec84-4825-b4ef-97316dc36305"
      },
      "execution_count": null,
      "outputs": [
        {
          "output_type": "display_data",
          "data": {
            "text/plain": [
              "<IPython.core.display.Javascript object>"
            ],
            "application/javascript": [
              "\n",
              "    async function download(id, filename, size) {\n",
              "      if (!google.colab.kernel.accessAllowed) {\n",
              "        return;\n",
              "      }\n",
              "      const div = document.createElement('div');\n",
              "      const label = document.createElement('label');\n",
              "      label.textContent = `Downloading \"${filename}\": `;\n",
              "      div.appendChild(label);\n",
              "      const progress = document.createElement('progress');\n",
              "      progress.max = size;\n",
              "      div.appendChild(progress);\n",
              "      document.body.appendChild(div);\n",
              "\n",
              "      const buffers = [];\n",
              "      let downloaded = 0;\n",
              "\n",
              "      const channel = await google.colab.kernel.comms.open(id);\n",
              "      // Send a message to notify the kernel that we're ready.\n",
              "      channel.send({})\n",
              "\n",
              "      for await (const message of channel.messages) {\n",
              "        // Send a message to notify the kernel that we're ready.\n",
              "        channel.send({})\n",
              "        if (message.buffers) {\n",
              "          for (const buffer of message.buffers) {\n",
              "            buffers.push(buffer);\n",
              "            downloaded += buffer.byteLength;\n",
              "            progress.value = downloaded;\n",
              "          }\n",
              "        }\n",
              "      }\n",
              "      const blob = new Blob(buffers, {type: 'application/binary'});\n",
              "      const a = document.createElement('a');\n",
              "      a.href = window.URL.createObjectURL(blob);\n",
              "      a.download = filename;\n",
              "      div.appendChild(a);\n",
              "      a.click();\n",
              "      div.remove();\n",
              "    }\n",
              "  "
            ]
          },
          "metadata": {}
        },
        {
          "output_type": "display_data",
          "data": {
            "text/plain": [
              "<IPython.core.display.Javascript object>"
            ],
            "application/javascript": [
              "download(\"download_597b75d5-0f6a-4b44-8381-1d16c40c5a03\", \"svc.pkl\", 389256)"
            ]
          },
          "metadata": {}
        }
      ]
    },
    {
      "cell_type": "code",
      "source": [
        "#test1\n",
        "print(\"predicted disease : \", svc.predict(X_test.iloc[0].values.reshape(1,-1)))\n",
        "print(\"Actual disease : \", y_test[0])"
      ],
      "metadata": {
        "colab": {
          "base_uri": "https://localhost:8080/"
        },
        "id": "G3LpEtY6mVy8",
        "outputId": "d5d0d1fb-9913-4506-f663-7ccc271aa40f"
      },
      "execution_count": null,
      "outputs": [
        {
          "output_type": "stream",
          "name": "stdout",
          "text": [
            "predicted disease :  [40]\n",
            "Actual disease :  40\n"
          ]
        },
        {
          "output_type": "stream",
          "name": "stderr",
          "text": [
            "/usr/local/lib/python3.10/dist-packages/sklearn/base.py:465: UserWarning: X does not have valid feature names, but SVC was fitted with feature names\n",
            "  warnings.warn(\n"
          ]
        }
      ]
    },
    {
      "cell_type": "code",
      "source": [
        "#test2\n",
        "print(\"predicted disease : \", svc.predict(X_test.iloc[100].values.reshape(1,-1)))\n",
        "print(\"Actual disease : \", y_test[100])"
      ],
      "metadata": {
        "colab": {
          "base_uri": "https://localhost:8080/"
        },
        "id": "syRvdjHAnfmH",
        "outputId": "e2e605e9-dcf4-445b-bcdc-5db961f7e5d5"
      },
      "execution_count": null,
      "outputs": [
        {
          "output_type": "stream",
          "name": "stdout",
          "text": [
            "predicted disease :  [39]\n",
            "Actual disease :  39\n"
          ]
        },
        {
          "output_type": "stream",
          "name": "stderr",
          "text": [
            "/usr/local/lib/python3.10/dist-packages/sklearn/base.py:465: UserWarning: X does not have valid feature names, but SVC was fitted with feature names\n",
            "  warnings.warn(\n"
          ]
        }
      ]
    },
    {
      "cell_type": "markdown",
      "source": [
        "#Recommendation System and prediction"
      ],
      "metadata": {
        "id": "uo3PlF_fnuYd"
      }
    },
    {
      "cell_type": "markdown",
      "source": [
        "Load database and use logic for recommendations"
      ],
      "metadata": {
        "id": "ScACLPyRn0e8"
      }
    },
    {
      "cell_type": "code",
      "source": [
        "sym_des=pd.read_csv('symtoms_df.csv')\n",
        "precautions=pd.read_csv('precautions_df.csv')\n",
        "workout=pd.read_csv('workout_df.csv')\n",
        "description=pd.read_csv('description.csv')\n",
        "medications=pd.read_csv('medications.csv')\n",
        "diets=pd.read_csv('diets.csv')"
      ],
      "metadata": {
        "id": "cKptY0Lsn7Cq"
      },
      "execution_count": null,
      "outputs": []
    },
    {
      "cell_type": "markdown",
      "source": [
        "Helping func"
      ],
      "metadata": {
        "id": "AuC5GyvX44JU"
      }
    },
    {
      "cell_type": "code",
      "source": [
        "#Helping fucntions\n",
        "\n",
        "def helper(dis):\n",
        "    desc = description[description['Disease'] == predicted_disease]['Description']\n",
        "    desc = \" \".join([w for w in desc])\n",
        "\n",
        "    pre = precautions[precautions['Disease'] == dis][['Precaution_1', 'Precaution_2', 'Precaution_3', 'Precaution_4']]\n",
        "    pre = [col for col in pre.values]\n",
        "\n",
        "    med = medications[medications['Disease'] == dis]['Medication']\n",
        "    med = [med for med in med.values]\n",
        "\n",
        "    die = diets[diets['Disease'] == dis]['Diet']\n",
        "    die = [die for die in die.values]\n",
        "\n",
        "    wrkout = workout[workout['disease'] == dis] ['workout']\n",
        "\n",
        "\n",
        "    return desc,pre,med,die,wrkout\n",
        "\n",
        "symptoms_dict = {'itching': 0, 'skin_rash': 1, 'nodal_skin_eruptions': 2, 'continuous_sneezing': 3, 'shivering': 4, 'chills': 5, 'joint_pain': 6, 'stomach_pain': 7, 'acidity': 8, 'ulcers_on_tongue': 9, 'muscle_wasting': 10, 'vomiting': 11, 'burning_micturition': 12, 'spotting_ urination': 13, 'fatigue': 14, 'weight_gain': 15, 'anxiety': 16, 'cold_hands_and_feets': 17, 'mood_swings': 18, 'weight_loss': 19, 'restlessness': 20, 'lethargy': 21, 'patches_in_throat': 22, 'irregular_sugar_level': 23, 'cough': 24, 'high_fever': 25, 'sunken_eyes': 26, 'breathlessness': 27, 'sweating': 28, 'dehydration': 29, 'indigestion': 30, 'headache': 31, 'yellowish_skin': 32, 'dark_urine': 33, 'nausea': 34, 'loss_of_appetite': 35, 'pain_behind_the_eyes': 36, 'back_pain': 37, 'constipation': 38, 'abdominal_pain': 39, 'diarrhoea': 40, 'mild_fever': 41, 'yellow_urine': 42, 'yellowing_of_eyes': 43, 'acute_liver_failure': 44, 'fluid_overload': 45, 'swelling_of_stomach': 46, 'swelled_lymph_nodes': 47, 'malaise': 48, 'blurred_and_distorted_vision': 49, 'phlegm': 50, 'throat_irritation': 51, 'redness_of_eyes': 52, 'sinus_pressure': 53, 'runny_nose': 54, 'congestion': 55, 'chest_pain': 56, 'weakness_in_limbs': 57, 'fast_heart_rate': 58, 'pain_during_bowel_movements': 59, 'pain_in_anal_region': 60, 'bloody_stool': 61, 'irritation_in_anus': 62, 'neck_pain': 63, 'dizziness': 64, 'cramps': 65, 'bruising': 66, 'obesity': 67, 'swollen_legs': 68, 'swollen_blood_vessels': 69, 'puffy_face_and_eyes': 70, 'enlarged_thyroid': 71, 'brittle_nails': 72, 'swollen_extremeties': 73, 'excessive_hunger': 74, 'extra_marital_contacts': 75, 'drying_and_tingling_lips': 76, 'slurred_speech': 77, 'knee_pain': 78, 'hip_joint_pain': 79, 'muscle_weakness': 80, 'stiff_neck': 81, 'swelling_joints': 82, 'movement_stiffness': 83, 'spinning_movements': 84, 'loss_of_balance': 85, 'unsteadiness': 86, 'weakness_of_one_body_side': 87, 'loss_of_smell': 88, 'bladder_discomfort': 89, 'foul_smell_of urine': 90, 'continuous_feel_of_urine': 91, 'passage_of_gases': 92, 'internal_itching': 93, 'toxic_look_(typhos)': 94, 'depression': 95, 'irritability': 96, 'muscle_pain': 97, 'altered_sensorium': 98, 'red_spots_over_body': 99, 'belly_pain': 100, 'abnormal_menstruation': 101, 'dischromic _patches': 102, 'watering_from_eyes': 103, 'increased_appetite': 104, 'polyuria': 105, 'family_history': 106, 'mucoid_sputum': 107, 'rusty_sputum': 108, 'lack_of_concentration': 109, 'visual_disturbances': 110, 'receiving_blood_transfusion': 111, 'receiving_unsterile_injections': 112, 'coma': 113, 'stomach_bleeding': 114, 'distention_of_abdomen': 115, 'history_of_alcohol_consumption': 116, 'fluid_overload.1': 117, 'blood_in_sputum': 118, 'prominent_veins_on_calf': 119, 'palpitations': 120, 'painful_walking': 121, 'pus_filled_pimples': 122, 'blackheads': 123, 'scurring': 124, 'skin_peeling': 125, 'silver_like_dusting': 126, 'small_dents_in_nails': 127, 'inflammatory_nails': 128, 'blister': 129, 'red_sore_around_nose': 130, 'yellow_crust_ooze': 131}\n",
        "diseases_list = {15: 'Fungal infection', 4: 'Allergy', 16: 'GERD', 9: 'Chronic cholestasis', 14: 'Drug Reaction', 33: 'Peptic ulcer diseae', 1: 'AIDS', 12: 'Diabetes ', 17: 'Gastroenteritis', 6: 'Bronchial Asthma', 23: 'Hypertension ', 30: 'Migraine', 7: 'Cervical spondylosis', 32: 'Paralysis (brain hemorrhage)', 28: 'Jaundice', 29: 'Malaria', 8: 'Chicken pox', 11: 'Dengue', 37: 'Typhoid', 40: 'hepatitis A', 19: 'Hepatitis B', 20: 'Hepatitis C', 21: 'Hepatitis D', 22: 'Hepatitis E', 3: 'Alcoholic hepatitis', 36: 'Tuberculosis', 10: 'Common Cold', 34: 'Pneumonia', 13: 'Dimorphic hemmorhoids(piles)', 18: 'Heart attack', 39: 'Varicose veins', 26: 'Hypothyroidism', 24: 'Hyperthyroidism', 25: 'Hypoglycemia', 31: 'Osteoarthristis', 5: 'Arthritis', 0: '(vertigo) Paroymsal  Positional Vertigo', 2: 'Acne', 38: 'Urinary tract infection', 35: 'Psoriasis', 27: 'Impetigo'}\n",
        "\n",
        "#model prediction function\n",
        "def get_predicted_value(patient_symptoms):\n",
        "  input_vector=np.zeros(len(symptoms_dict))\n",
        "  for item in patient_symptoms:\n",
        "    input_vector[symptoms_dict[item]]=1\n",
        "  return diseases_list[svc.predict([input_vector])[0]]"
      ],
      "metadata": {
        "id": "FSWMIW1vojfN"
      },
      "execution_count": null,
      "outputs": []
    },
    {
      "cell_type": "markdown",
      "source": [
        "testing , making predictions\n"
      ],
      "metadata": {
        "id": "HxY6jkpU46si"
      }
    },
    {
      "cell_type": "code",
      "source": [
        "# Test 1\n",
        "symptoms = input(\"Enter your symptoms.......\")\n",
        "user_symptoms = [s.strip() for s in symptoms.split(',')]\n",
        "\n",
        "user_symptoms = [symptom.strip(\"[]' \") for symptom in user_symptoms]\n",
        "predicted_disease = get_predicted_value(user_symptoms)\n",
        "\n",
        "desc, pre, med, die, wrkout = helper(predicted_disease)\n",
        "\n",
        "print(\"=================predicted disease============\")\n",
        "print(predicted_disease)\n",
        "print(\"=================description==================\")\n",
        "print(desc)\n",
        "print(\"=================precautions==================\")\n",
        "i = 1\n",
        "for p_i in pre[0]:\n",
        "    print(i, \": \", p_i)\n",
        "    i += 1\n",
        "\n",
        "print(\"=================medications==================\")\n",
        "for m_i in med:\n",
        "    print(i, \": \", m_i)\n",
        "    i += 1\n",
        "\n",
        "print(\"=================workout==================\")\n",
        "for w_i in wrkout:\n",
        "    print(i, \": \", w_i)\n",
        "    i += 1\n",
        "\n",
        "print(\"=================diets==================\")\n",
        "for d_i in die:\n",
        "    print(i, \": \", d_i)\n",
        "    i += 1"
      ],
      "metadata": {
        "colab": {
          "base_uri": "https://localhost:8080/"
        },
        "id": "PIEKwasUqW8n",
        "outputId": "2f48e109-c297-4d34-80bd-af342c67eaf9"
      },
      "execution_count": null,
      "outputs": [
        {
          "output_type": "stream",
          "name": "stdout",
          "text": [
            "Enter your symptoms.......itching, skin_rash\n",
            "=================predicted disease============\n",
            "Fungal infection\n",
            "=================description==================\n",
            "Fungal infection is a common skin condition caused by fungi.\n",
            "=================precautions==================\n",
            "1 :  bath twice\n",
            "2 :  use detol or neem in bathing water\n",
            "3 :  keep infected area dry\n",
            "4 :  use clean cloths\n",
            "=================medications==================\n",
            "5 :  ['Antifungal Cream', 'Fluconazole', 'Terbinafine', 'Clotrimazole', 'Ketoconazole']\n",
            "=================workout==================\n",
            "6 :  Avoid sugary foods\n",
            "7 :  Consume probiotics\n",
            "8 :  Increase intake of garlic\n",
            "9 :  Include yogurt in diet\n",
            "10 :  Limit processed foods\n",
            "11 :  Stay hydrated\n",
            "12 :  Consume green tea\n",
            "13 :  Eat foods rich in zinc\n",
            "14 :  Include turmeric in diet\n",
            "15 :  Eat fruits and vegetables\n",
            "=================diets==================\n",
            "16 :  ['Antifungal Diet', 'Probiotics', 'Garlic', 'Coconut oil', 'Turmeric']\n"
          ]
        },
        {
          "output_type": "stream",
          "name": "stderr",
          "text": [
            "/usr/local/lib/python3.10/dist-packages/sklearn/base.py:465: UserWarning: X does not have valid feature names, but SVC was fitted with feature names\n",
            "  warnings.warn(\n"
          ]
        }
      ]
    },
    {
      "cell_type": "markdown",
      "source": [],
      "metadata": {
        "id": "jECNhdf2_bNI"
      }
    },
    {
      "cell_type": "code",
      "source": [
        "\n",
        "import sklearn\n",
        "print(sklearn.__version__)\n"
      ],
      "metadata": {
        "id": "-gSKbTTKJWmw",
        "outputId": "17304859-da21-412e-9370-de085ae25ab6",
        "colab": {
          "base_uri": "https://localhost:8080/"
        }
      },
      "execution_count": null,
      "outputs": [
        {
          "output_type": "stream",
          "name": "stdout",
          "text": [
            "1.3.2\n"
          ]
        }
      ]
    },
    {
      "cell_type": "markdown",
      "metadata": {
        "id": "0ded1e34"
      },
      "source": [
        "# Task\n",
        "Explain how to create a web application using Flask or Django to load the \"svc.pkl\" model, create an input form for symptoms, process user input, make a prediction using the model, and display the predicted disease, description, precautions, medications, workout recommendations, and diets. Also, explain how to deploy the application."
      ]
    },
    {
      "cell_type": "markdown",
      "metadata": {
        "id": "5d92944d"
      },
      "source": [
        "## Choose a web framework\n",
        "\n",
        "### Subtask:\n",
        "Select a Python web framework like Flask or Django to build your web application.\n"
      ]
    },
    {
      "cell_type": "markdown",
      "metadata": {
        "id": "05ac0f62"
      },
      "source": [
        "**Reasoning**:\n",
        "Flask is a lightweight framework suitable for this application. The following code block will install Flask.\n",
        "\n"
      ]
    },
    {
      "cell_type": "code",
      "metadata": {
        "colab": {
          "base_uri": "https://localhost:8080/"
        },
        "id": "5b900f10",
        "outputId": "2b1166de-ebad-42c6-f643-210860f02d53"
      },
      "source": [
        "!pip install Flask"
      ],
      "execution_count": null,
      "outputs": [
        {
          "output_type": "stream",
          "name": "stdout",
          "text": [
            "Requirement already satisfied: Flask in /usr/local/lib/python3.11/dist-packages (3.1.1)\n",
            "Requirement already satisfied: blinker>=1.9.0 in /usr/local/lib/python3.11/dist-packages (from Flask) (1.9.0)\n",
            "Requirement already satisfied: click>=8.1.3 in /usr/local/lib/python3.11/dist-packages (from Flask) (8.2.1)\n",
            "Requirement already satisfied: itsdangerous>=2.2.0 in /usr/local/lib/python3.11/dist-packages (from Flask) (2.2.0)\n",
            "Requirement already satisfied: jinja2>=3.1.2 in /usr/local/lib/python3.11/dist-packages (from Flask) (3.1.6)\n",
            "Requirement already satisfied: markupsafe>=2.1.1 in /usr/local/lib/python3.11/dist-packages (from Flask) (3.0.2)\n",
            "Requirement already satisfied: werkzeug>=3.1.0 in /usr/local/lib/python3.11/dist-packages (from Flask) (3.1.3)\n"
          ]
        }
      ]
    },
    {
      "cell_type": "markdown",
      "metadata": {
        "id": "3ff37203"
      },
      "source": [
        "## Create a web application\n",
        "\n",
        "### Subtask:\n",
        "Set up the basic structure of your web application using the chosen framework (Flask).\n"
      ]
    },
    {
      "cell_type": "markdown",
      "metadata": {
        "id": "de63013b"
      },
      "source": [
        "**Reasoning**:\n",
        "Set up the basic structure of the Flask application in a new file named `app.py`.\n",
        "\n"
      ]
    },
    {
      "cell_type": "code",
      "metadata": {
        "colab": {
          "base_uri": "https://localhost:8080/"
        },
        "id": "94b0963c",
        "outputId": "2501015a-2291-4339-f398-a0a8bcf1e27e"
      },
      "source": [
        "# Create a new file named app.py and add the following content:\n",
        "\n",
        "from flask import Flask\n",
        "\n",
        "app = Flask(__name__)\n",
        "\n",
        "@app.route('/')\n",
        "def index():\n",
        "    return \"Flask application is running!\"\n",
        "\n",
        "if __name__ == '__main__':\n",
        "    app.run(debug=True)\n"
      ],
      "execution_count": null,
      "outputs": [
        {
          "metadata": {
            "tags": null
          },
          "name": "stdout",
          "output_type": "stream",
          "text": [
            " * Serving Flask app '__main__'\n",
            " * Debug mode: on\n"
          ]
        },
        {
          "metadata": {
            "tags": null
          },
          "name": "stderr",
          "output_type": "stream",
          "text": [
            "INFO:werkzeug:\u001b[31m\u001b[1mWARNING: This is a development server. Do not use it in a production deployment. Use a production WSGI server instead.\u001b[0m\n",
            " * Running on http://127.0.0.1:5000\n",
            "INFO:werkzeug:\u001b[33mPress CTRL+C to quit\u001b[0m\n",
            "INFO:werkzeug: * Restarting with stat\n"
          ]
        }
      ]
    },
    {
      "cell_type": "markdown",
      "metadata": {
        "id": "3121fbdf"
      },
      "source": [
        "## Load the model\n",
        "\n",
        "### Subtask:\n",
        "Load the saved SVC model (`svc.pkl`) within the web application.\n"
      ]
    },
    {
      "cell_type": "markdown",
      "metadata": {
        "id": "4754fadc"
      },
      "source": [
        "**Reasoning**:\n",
        "Load the saved SVC model (`svc.pkl`) using pickle when the application starts.\n",
        "\n"
      ]
    },
    {
      "cell_type": "code",
      "metadata": {
        "id": "1c816299"
      },
      "source": [
        "import pickle\n",
        "\n",
        "# Load the model when the application starts\n",
        "try:\n",
        "    with open('svc.pkl', 'rb') as f:\n",
        "        model = pickle.load(f)\n",
        "except FileNotFoundError:\n",
        "    model = None # Handle the case where the model file is not found\n",
        "    print(\"Error: svc.pkl not found. Please ensure the model file is in the correct directory.\")\n",
        "except Exception as e:\n",
        "    model = None # Handle other potential loading errors\n",
        "    print(f\"Error loading model: {e}\")"
      ],
      "execution_count": null,
      "outputs": []
    },
    {
      "cell_type": "markdown",
      "metadata": {
        "id": "09257fee"
      },
      "source": [
        "## Create an input form\n",
        "\n",
        "### Subtask:\n",
        "Design a web form for users to enter their symptoms using Flask.\n"
      ]
    },
    {
      "cell_type": "markdown",
      "metadata": {
        "id": "4e1f0ada"
      },
      "source": [
        "**Reasoning**:\n",
        "I need to create an HTML file for the form and modify the Flask app to render it. I will create a `templates` directory and an `index.html` file within it. Then, I will update the `/` route in `app.py` to render this HTML file.\n",
        "\n"
      ]
    },
    {
      "cell_type": "code",
      "metadata": {
        "id": "d5974e75",
        "colab": {
          "base_uri": "https://localhost:8080/"
        },
        "outputId": "3081fe38-3e6a-4529-a930-8db4a75e4572"
      },
      "source": [
        "import os\n",
        "from flask import render_template, request, Flask # Import request as well\n",
        "\n",
        "# Create the templates directory if it doesn't exist\n",
        "if not os.path.exists('templates'):\n",
        "    os.makedirs('templates')\n",
        "\n",
        "# Create the index.html file\n",
        "with open('templates/index.html', 'w') as f:\n",
        "    f.write(\"\"\"\n",
        "<!DOCTYPE html>\n",
        "<html>\n",
        "<head>\n",
        "    <title>Symptom Checker</title>\n",
        "</head>\n",
        "<body>\n",
        "    <h1>Enter Your Symptoms</h1>\n",
        "    <form action=\"/\" method=\"post\">\n",
        "        <label for=\"symptoms\">Symptoms (comma-separated):</label><br>\n",
        "        <input type=\"text\" id=\"symptoms\" name=\"symptoms\" size=\"50\"><br><br>\n",
        "        <input type=\"submit\" value=\"Predict Disease\">\n",
        "    </form>\n",
        "</body>\n",
        "</html>\n",
        "\"\"\")\n",
        "\n",
        "# Re-define the Flask app instance to include the new imports and route\n",
        "app = Flask(__name__)\n",
        "\n",
        "# Load the model when the application starts (assuming the previous model loading code is executed elsewhere)\n",
        "# import pickle\n",
        "# try:\n",
        "#     with open('svc.pkl', 'rb') as f:\n",
        "#         model = pickle.load(f)\n",
        "# except FileNotFoundError:\n",
        "#     model = None # Handle the case where the model file is not found\n",
        "#     print(\"Error: svc.pkl not found. Please ensure the model file is in the correct directory.\")\n",
        "# except Exception as e:\n",
        "#     model = None # Handle other potential loading errors\n",
        "#     print(f\"Error loading model: {e}\")\n",
        "\n",
        "\n",
        "@app.route('/', methods=['GET', 'POST'])\n",
        "def index():\n",
        "    if request.method == 'POST':\n",
        "        # Process the form data (this will be implemented in the next subtask)\n",
        "        user_symptoms = request.form['symptoms']\n",
        "        return f\"Symptoms entered: {user_symptoms}\" # Placeholder for now\n",
        "    else:\n",
        "        return render_template('index.html')\n",
        "\n",
        "if __name__ == '__main__':\n",
        "    # The notebook environment might not allow running the Flask app directly like this.\n",
        "    # This part is for demonstrating the code structure.\n",
        "    # In a real application, you would run `python app.py` in your terminal.\n",
        "    print(\"Flask app configured. To run, save this code as app.py and execute in a Python environment.\")\n"
      ],
      "execution_count": null,
      "outputs": [
        {
          "output_type": "stream",
          "name": "stdout",
          "text": [
            "Flask app configured. To run, save this code as app.py and execute in a Python environment.\n"
          ]
        }
      ]
    },
    {
      "cell_type": "markdown",
      "metadata": {
        "id": "b46d98a4"
      },
      "source": [
        "## Process user input and make prediction\n",
        "\n",
        "### Subtask:\n",
        "Implement the logic to receive symptom input from the form, preprocess it, and use the loaded model to predict the disease."
      ]
    },
    {
      "cell_type": "markdown",
      "metadata": {
        "id": "fecf0508"
      },
      "source": [
        "**Reasoning**:\n",
        "Modify the `/` route in `app.py` to handle the POST request, extract the symptoms, convert them to the correct format for the model, make a prediction, and then call the `helper` function to get the related information."
      ]
    },
    {
      "cell_type": "code",
      "metadata": {
        "colab": {
          "base_uri": "https://localhost:8080/"
        },
        "id": "30ba25d3",
        "outputId": "71e36e91-19af-45df-ca4a-a7b00e955e85"
      },
      "source": [
        "# Modify the app.py content:\n",
        "\n",
        "import os\n",
        "from flask import Flask, render_template, request\n",
        "import pickle\n",
        "import numpy as np\n",
        "import pandas as pd # Import pandas\n",
        "\n",
        "# Load the model when the application starts\n",
        "try:\n",
        "    with open('svc.pkl', 'rb') as f:\n",
        "        model = pickle.load(f)\n",
        "except FileNotFoundError:\n",
        "    model = None # Handle the case where the model file is not found\n",
        "    print(\"Error: svc.pkl not found. Please ensure the model file is in the correct directory.\")\n",
        "except Exception as e:\n",
        "    model = None # Handle other potential loading errors\n",
        "    print(f\"Error loading model: {e}\")\n",
        "\n",
        "\n",
        "# Helping fucntions (assuming these are defined elsewhere in your notebook)\n",
        "# You will need to ensure these functions and the dictionaries they depend on\n",
        "# (symptoms_dict, diseases_list, description, precautions, medications, diets, workout)\n",
        "# are accessible in the Flask application environment.\n",
        "def helper(dis):\n",
        "    # Ensure that the dataframes used here (description, precautions, medications, diets, workout)\n",
        "    # are loaded and available in this context.\n",
        "    # For example, you might load them at the beginning of the app.py file.\n",
        "    try:\n",
        "        desc = description[description['Disease'] == dis]['Description']\n",
        "        desc = \" \".join([w for w in desc])\n",
        "    except:\n",
        "        desc = \"Description not available.\"\n",
        "\n",
        "    try:\n",
        "        pre = precautions[precautions['Disease'] == dis][['Precaution_1', 'Precaution_2', 'Precaution_3', 'Precaution_4']]\n",
        "        pre = [col for col in pre.values]\n",
        "    except:\n",
        "        pre = []\n",
        "\n",
        "    try:\n",
        "        med = medications[medications['Disease'] == dis]['Medication']\n",
        "        med = [med for med in med.values]\n",
        "    except:\n",
        "        med = []\n",
        "\n",
        "    try:\n",
        "        die = diets[diets['Disease'] == dis]['Diet']\n",
        "        die = [die for die in die.values]\n",
        "    except:\n",
        "        die = []\n",
        "\n",
        "    try:\n",
        "        wrkout = workout[workout['disease'] == dis] ['workout']\n",
        "    except:\n",
        "        wrkout = []\n",
        "\n",
        "\n",
        "    return desc, pre, med, die, wrkout\n",
        "\n",
        "# Assuming symptoms_dict and diseases_list are defined globally or within this file\n",
        "\n",
        "symptoms_dict = {'itching': 0, 'skin_rash': 1, 'nodal_skin_eruptions': 2, 'continuous_sneezing': 3, 'shivering': 4, 'chills': 5, 'joint_pain': 6, 'stomach_pain': 7, 'acidity': 8, 'ulcers_on_tongue': 9, 'muscle_wasting': 10, 'vomiting': 11, 'burning_micturition': 12, 'spotting_ urination': 13, 'fatigue': 14, 'weight_gain': 15, 'anxiety': 16, 'cold_hands_and_feets': 17, 'mood_swings': 18, 'weight_loss': 19, 'restlessness': 20, 'lethargy': 21, 'patches_in_throat': 22, 'irregular_sugar_level': 23, 'cough': 24, 'high_fever': 25, 'sunken_eyes': 26, 'breathlessness': 27, 'sweating': 28, 'dehydration': 29, 'indigestion': 30, 'headache': 31, 'yellowish_skin': 32, 'dark_urine': 33, 'nausea': 34, 'loss_of_appetite': 35, 'pain_behind_the_eyes': 36, 'back_pain': 37, 'constipation': 38, 'abdominal_pain': 39, 'diarrhoea': 40, 'mild_fever': 41, 'yellow_urine': 42, 'yellowing_of_eyes': 43, 'acute_liver_failure': 44, 'fluid_overload': 45, 'swelling_of_stomach': 46, 'swelled_lymph_nodes': 47, 'malaise': 48, 'blurred_and_distorted_vision': 49, 'phlegm': 50, 'throat_irritation': 51, 'redness_of_eyes': 52, 'sinus_pressure': 53, 'runny_nose': 54, 'congestion': 55, 'chest_pain': 56, 'weakness_in_limbs': 57, 'fast_heart_rate': 58, 'pain_during_bowel_movements': 59, 'pain_in_anal_region': 60, 'bloody_stool': 61, 'irritation_in_anus': 62, 'neck_pain': 63, 'dizziness': 64, 'cramps': 65, 'bruising': 66, 'obesity': 67, 'swollen_legs': 68, 'swollen_blood_vessels': 69, 'puffy_face_and_eyes': 70, 'enlarged_thyroid': 71, 'brittle_nails': 72, 'swollen_extremeties': 73, 'excessive_hunger': 74, 'extra_marital_contacts': 75, 'drying_and_tingling_lips': 76, 'slurred_speech': 77, 'knee_pain': 78, 'hip_joint_pain': 79, 'muscle_weakness': 80, 'stiff_neck': 81, 'swelling_joints': 82, 'movement_stiffness': 83, 'spinning_movements': 84, 'loss_of_balance': 85, 'unsteadiness': 86, 'weakness_of_one_body_side': 87, 'loss_of_smell': 88, 'bladder_discomfort': 89, 'foul_smell_of urine': 90, 'continuous_feel_of_urine': 91, 'passage_of_gases': 92, 'internal_itching': 93, 'toxic_look_(typhos)': 94, 'depression': 95, 'irritability': 96, 'muscle_pain': 97, 'altered_sensorium': 98, 'red_spots_over_body': 99, 'belly_pain': 100, 'abnormal_menstruation': 101, 'dischromic _patches': 102, 'watering_from_eyes': 103, 'increased_appetite': 104, 'polyuria': 105, 'family_history': 106, 'mucoid_sputum': 107, 'rusty_sputum': 108, 'lack_of_concentration': 109, 'visual_disturbances': 110, 'receiving_blood_transfusion': 111, 'receiving_unsterile_injections': 112, 'coma': 113, 'stomach_bleeding': 114, 'distention_of_abdomen': 115, 'history_of_alcohol_consumption': 116, 'fluid_overload.1': 117, 'blood_in_sputum': 118, 'prominent_veins_on_calf': 119, 'palpitations': 120, 'painful_walking': 121, 'pus_filled_pimples': 122, 'blackheads': 123, 'scurring': 124, 'skin_peeling': 125, 'silver_like_dusting': 126, 'small_dents_in_nails': 127, 'inflammatory_nails': 128, 'blister': 129, 'red_sore_around_nose': 130, 'yellow_crust_ooze': 131}\n",
        "diseases_list = {15: 'Fungal infection', 4: 'Allergy', 16: 'GERD', 9: 'Chronic cholestasis', 14: 'Drug Reaction', 33: 'Peptic ulcer diseae', 1: 'AIDS', 12: 'Diabetes ', 17: 'Gastroenteritis', 6: 'Bronchial Asthma', 23: 'Hypertension ', 30: 'Migraine', 7: 'Cervical spondylosis', 32: 'Paralysis (brain hemorrhage)', 28: 'Jaundice', 29: 'Malaria', 8: 'Chicken pox', 11: 'Dengue', 37: 'Typhoid', 40: 'hepatitis A', 19: 'Hepatitis B', 20: 'Hepatitis C', 21: 'Hepatitis D', 22: 'Hepatitis E', 3: 'Alcoholic hepatitis', 36: 'Tuberculosis', 10: 'Common Cold', 34: 'Pneumonia', 13: 'Dimorphic hemmorhoids(piles)', 18: 'Heart attack', 39: 'Varicose veins', 26: 'Hypothyroidism', 24: 'Hyperthyroidism', 25: 'Hypoglycemia', 31: 'Osteoarthristis', 5: 'Arthritis', 0: '(vertigo) Paroymsal  Positional Vertigo', 2: 'Acne', 38: 'Urinary tract infection', 35: 'Psoriasis', 27: 'Impetigo'}\n",
        "\n",
        "# Load the dataframes used in the helper function\n",
        "try:\n",
        "    sym_des=pd.read_csv('symtoms_df.csv')\n",
        "    precautions=pd.read_csv('precautions_df.csv')\n",
        "    workout=pd.read_csv('workout_df.csv')\n",
        "    description=pd.read_csv('description.csv')\n",
        "    medications=pd.read_csv('medications.csv')\n",
        "    diets=pd.read_csv('diets.csv')\n",
        "except FileNotFoundError:\n",
        "    print(\"Error: Dataframe files not found. Please ensure the CSV files are in the correct directory.\")\n",
        "    sym_des, precautions, workout, description, medications, diets = None, None, None, None, None, None # Set to None if files are missing\n",
        "\n",
        "\n",
        "def get_predicted_value(patient_symptoms):\n",
        "    if model is None:\n",
        "        return \"Error: Model not loaded.\"\n",
        "    input_vector = np.zeros(len(symptoms_dict))\n",
        "    for item in patient_symptoms:\n",
        "        if item in symptoms_dict:\n",
        "          input_vector[symptoms_dict[item]] = 1\n",
        "        else:\n",
        "          # Handle cases where a symptom is not in the dictionary\n",
        "          print(f\"Warning: Symptom '{item}' not found in symptoms dictionary.\")\n",
        "    return diseases_list[model.predict([input_vector])[0]]\n",
        "\n",
        "\n",
        "app = Flask(__name__)\n",
        "\n",
        "@app.route('/', methods=['GET', 'POST'])\n",
        "def index():\n",
        "    if request.method == 'POST':\n",
        "        user_symptoms_input = request.form['symptoms']\n",
        "        user_symptoms = [s.strip() for s in user_symptoms_input.split(',')]\n",
        "        user_symptoms = [symptom.strip(\"[]' \") for symptom in user_symptoms]\n",
        "\n",
        "        predicted_disease = get_predicted_value(user_symptoms)\n",
        "\n",
        "        if predicted_disease.startswith(\"Error\"):\n",
        "             return render_template('index.html', error_message=predicted_disease)\n",
        "\n",
        "\n",
        "        desc, pre, med, die, wrkout = helper(predicted_disease)\n",
        "\n",
        "\n",
        "        return render_template('result.html',\n",
        "                               predicted_disease=predicted_disease,\n",
        "                               description=desc,\n",
        "                               precautions=pre,\n",
        "                               medications=med,\n",
        "                               diets=die,\n",
        "                               workout=wrkout)\n",
        "    else:\n",
        "        return render_template('index.html')\n",
        "\n",
        "if __name__ == '__main__':\n",
        "    # The notebook environment might not allow running the Flask app directly like this.\n",
        "    # This part is for demonstrating the code structure.\n",
        "    # In a real application, you would run `python app.py` in your terminal.\n",
        "    print(\"Flask app configured. To run, save this code as app.py and execute in a Python environment.\")"
      ],
      "execution_count": null,
      "outputs": [
        {
          "output_type": "stream",
          "name": "stdout",
          "text": [
            "Error: svc.pkl not found. Please ensure the model file is in the correct directory.\n",
            "Error: Dataframe files not found. Please ensure the CSV files are in the correct directory.\n",
            "Flask app configured. To run, save this code as app.py and execute in a Python environment.\n"
          ]
        }
      ]
    },
    {
      "cell_type": "markdown",
      "metadata": {
        "id": "50748bf9"
      },
      "source": [
        "## Display the results\n",
        "\n",
        "### Subtask:\n",
        "Create a new HTML template to display the predicted disease and related information."
      ]
    },
    {
      "cell_type": "markdown",
      "metadata": {
        "id": "0c13fb11"
      },
      "source": [
        "**Reasoning**:\n",
        "Create a new HTML file named `result.html` in the `templates` directory to display the prediction results."
      ]
    },
    {
      "cell_type": "code",
      "metadata": {
        "colab": {
          "base_uri": "https://localhost:8080/"
        },
        "id": "d93666b8",
        "outputId": "9bde7037-0e9d-4375-cd27-2846ac7fa979"
      },
      "source": [
        "# Create the result.html file in the templates directory\n",
        "\n",
        "import os\n",
        "\n",
        "# Create the templates directory if it doesn't exist\n",
        "if not os.path.exists('templates'):\n",
        "    os.makedirs('templates')\n",
        "\n",
        "# Create the result.html file\n",
        "with open('templates/result.html', 'w') as f:\n",
        "    f.write(\"\"\"\n",
        "<!DOCTYPE html>\n",
        "<html>\n",
        "<head>\n",
        "    <title>Symptom Checker Result</title>\n",
        "</head>\n",
        "<body>\n",
        "    <h1>Prediction Result</h1>\n",
        "    {% if error_message %}\n",
        "        <p style=\"color: red;\">{{ error_message }}</p>\n",
        "    {% else %}\n",
        "        <h2>Predicted Disease: {{ predicted_disease }}</h2>\n",
        "        <h3>Description:</h3>\n",
        "        <p>{{ description }}</p>\n",
        "\n",
        "        <h3>Precautions:</h3>\n",
        "        <ul>\n",
        "            {% for precaution_list in precautions %}\n",
        "                {% for precaution in precaution_list %}\n",
        "                    <li>{{ precaution }}</li>\n",
        "                {% endfor %}\n",
        "            {% endfor %}\n",
        "        </ul>\n",
        "\n",
        "        <h3>Medications:</h3>\n",
        "        <ul>\n",
        "            {% for medication in medications %}\n",
        "                <li>{{ medication }}</li>\n",
        "            {% endfor %}\n",
        "        </ul>\n",
        "\n",
        "        <h3>Diets:</h3>\n",
        "        <ul>\n",
        "            {% for diet in diets %}\n",
        "                <li>{{ diet }}</li>\n",
        "            {% endfor %}\n",
        "        </ul>\n",
        "\n",
        "        <h3>Workout Recommendations:</h3>\n",
        "         <ul>\n",
        "            {% for work in workout %}\n",
        "                <li>{{ work }}</li>\n",
        "            {% endfor %}\n",
        "        </ul>\n",
        "\n",
        "    {% endif %}\n",
        "    <br>\n",
        "    <a href=\"/\">Go Back</a>\n",
        "</body>\n",
        "</html>\n",
        "\"\"\")\n",
        "\n",
        "print(\"result.html created in the templates directory.\")"
      ],
      "execution_count": null,
      "outputs": [
        {
          "output_type": "stream",
          "name": "stdout",
          "text": [
            "result.html created in the templates directory.\n"
          ]
        }
      ]
    }
  ]
}